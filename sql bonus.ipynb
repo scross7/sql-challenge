{
 "cells": [
  {
   "cell_type": "code",
   "execution_count": 13,
   "metadata": {},
   "outputs": [],
   "source": [
    "import pandas as pd\n",
    "from Config import user, password\n",
    "import sqlalchemy\n",
    "from sqlalchemy.ext.automap import automap_base\n",
    "from sqlalchemy import create_engine, inspect\n",
    "from sqlalchemy.orm import Session"
   ]
  },
  {
   "cell_type": "code",
   "execution_count": 14,
   "metadata": {},
   "outputs": [],
   "source": [
    "# Create engine\n",
    "host = \"localhost\"\n",
    "port = \"5432\"\n",
    "db = \"Employee Database\"\n",
    "uri = f\"postgresql+psycopg2://{user}:{password}@{host}:{port}/{db}\"\n",
    "uri\n",
    "engine = create_engine(uri)\n",
    "\n",
    "# Create a connection\n",
    "connection = engine.connect()\n",
    "\n",
    "# Declare a Base\n",
    "Base = automap_base()\n",
    "\n",
    "# Use the Base class to create an ORM to reflect the database tables\n",
    "Base.prepare(engine, reflect=True)\n",
    "\n",
    "# Use Inspector to print the column names and types\n",
    "inspector = inspect(engine)\n",
    "\n",
    "# Start a session to query the database\n",
    "session = Session(engine)"
   ]
  },
  {
   "cell_type": "code",
   "execution_count": 15,
   "metadata": {},
   "outputs": [
    {
     "data": {
      "text/plain": [
       "['Employees', 'Dept_Emp', 'Departments', 'Dept_Manager', 'Salaries', 'Titles']"
      ]
     },
     "execution_count": 15,
     "metadata": {},
     "output_type": "execute_result"
    }
   ],
   "source": [
    "# Print all of the classes mapped to the Base\n",
    "Base.classes.keys()"
   ]
  },
  {
   "cell_type": "code",
   "execution_count": 16,
   "metadata": {},
   "outputs": [],
   "source": [
    "# Assign classes to variables\n",
    "# Dow = Base.classes.dow\n",
    "Employees = Base.classes.Employees\n",
    "Dept_Emp = Base.classes.Dept_Emp\n",
    "Departments = Base.classes.Departments\n",
    "Dept_Manager = Base.classes.Dept_Manager\n",
    "Salaries = Base.classes.Salaries\n",
    "Titles = Base.classes.Titles"
   ]
  },
  {
   "cell_type": "code",
   "execution_count": 17,
   "metadata": {},
   "outputs": [
    {
     "name": "stdout",
     "output_type": "stream",
     "text": [
      "emp_no INTEGER\n",
      "birth_date DATE\n",
      "first_name VARCHAR\n",
      "last_name VARCHAR\n",
      "gender VARCHAR\n",
      "hire_date DATE\n"
     ]
    }
   ],
   "source": [
    "columns_sal = inspector.get_columns('Employees')\n",
    "for column in columns_sal:\n",
    "    print(column[\"name\"], column[\"type\"])"
   ]
  },
  {
   "cell_type": "code",
   "execution_count": 18,
   "metadata": {
    "scrolled": true
   },
   "outputs": [
    {
     "name": "stdout",
     "output_type": "stream",
     "text": [
      "salaries_id INTEGER\n",
      "emp_no INTEGER\n",
      "salary INTEGER\n",
      "from_date DATE\n",
      "to_date DATE\n"
     ]
    }
   ],
   "source": [
    "columns_sal = inspector.get_columns('Salaries')\n",
    "for column in columns_sal:\n",
    "    print(column[\"name\"], column[\"type\"])"
   ]
  },
  {
   "cell_type": "code",
   "execution_count": 19,
   "metadata": {
    "scrolled": true
   },
   "outputs": [
    {
     "name": "stdout",
     "output_type": "stream",
     "text": [
      "titles_id INTEGER\n",
      "emp_no INTEGER\n",
      "title VARCHAR\n",
      "from_date DATE\n",
      "to_date DATE\n"
     ]
    }
   ],
   "source": [
    "columns_ti = inspector.get_columns('Titles')\n",
    "for column in columns_ti:\n",
    "    print(column[\"name\"], column[\"type\"])"
   ]
  },
  {
   "cell_type": "code",
   "execution_count": 25,
   "metadata": {},
   "outputs": [
    {
     "data": {
      "text/html": [
       "<div>\n",
       "<style scoped>\n",
       "    .dataframe tbody tr th:only-of-type {\n",
       "        vertical-align: middle;\n",
       "    }\n",
       "\n",
       "    .dataframe tbody tr th {\n",
       "        vertical-align: top;\n",
       "    }\n",
       "\n",
       "    .dataframe thead th {\n",
       "        text-align: right;\n",
       "    }\n",
       "</style>\n",
       "<table border=\"1\" class=\"dataframe\">\n",
       "  <thead>\n",
       "    <tr style=\"text-align: right;\">\n",
       "      <th></th>\n",
       "      <th>title</th>\n",
       "      <th>avg</th>\n",
       "    </tr>\n",
       "  </thead>\n",
       "  <tbody>\n",
       "    <tr>\n",
       "      <th>0</th>\n",
       "      <td>Assistant Engineer</td>\n",
       "      <td>48493.0</td>\n",
       "    </tr>\n",
       "    <tr>\n",
       "      <th>1</th>\n",
       "      <td>Engineer</td>\n",
       "      <td>48540.0</td>\n",
       "    </tr>\n",
       "    <tr>\n",
       "      <th>2</th>\n",
       "      <td>Manager</td>\n",
       "      <td>51531.0</td>\n",
       "    </tr>\n",
       "    <tr>\n",
       "      <th>3</th>\n",
       "      <td>Senior Engineer</td>\n",
       "      <td>48507.0</td>\n",
       "    </tr>\n",
       "    <tr>\n",
       "      <th>4</th>\n",
       "      <td>Senior Staff</td>\n",
       "      <td>58503.0</td>\n",
       "    </tr>\n",
       "  </tbody>\n",
       "</table>\n",
       "</div>"
      ],
      "text/plain": [
       "                title      avg\n",
       "0  Assistant Engineer  48493.0\n",
       "1            Engineer  48540.0\n",
       "2             Manager  51531.0\n",
       "3     Senior Engineer  48507.0\n",
       "4        Senior Staff  58503.0"
      ]
     },
     "execution_count": 25,
     "metadata": {},
     "output_type": "execute_result"
    }
   ],
   "source": [
    "# Create a bar chart of average salary by title.\n",
    "\n",
    "# SELECT t.title, CAST (AVG(s.salary)AS DEC(10))\n",
    "# FROM \"Titles\" as t \n",
    "# \tJOIN \"Salaries\" as s\n",
    "# \tON (t.emp_no = s.emp_no)\n",
    "# GROUP BY t.title\n",
    "\n",
    "sql = \"\"\"\n",
    "SELECT t.title, CAST (AVG(s.salary)AS DEC(10)) \n",
    "FROM \"Titles\" as t \n",
    "JOIN \"Salaries\" as s \n",
    "ON (t.emp_no = s.emp_no) \n",
    "GROUP BY t.title;\n",
    "\"\"\"\n",
    "df = pd.read_sql(sql, engine)\n",
    "df.head()\n"
   ]
  },
  {
   "cell_type": "code",
   "execution_count": 30,
   "metadata": {},
   "outputs": [
    {
     "data": {
      "text/plain": [
       "<matplotlib.axes._subplots.AxesSubplot at 0x11e1bc588>"
      ]
     },
     "execution_count": 30,
     "metadata": {},
     "output_type": "execute_result"
    },
    {
     "data": {
      "image/png": "[encoded data removed]",
      "text/plain": [
       "<Figure size 432x288 with 1 Axes>"
      ]
     },
     "metadata": {
      "needs_background": "light"
     },
     "output_type": "display_data"
    }
   ],
   "source": [
    "df.plot.barh(x='title', y='avg')"
   ]
  },
  {
   "cell_type": "code",
   "execution_count": 22,
   "metadata": {},
   "outputs": [
    {
     "name": "stdout",
     "output_type": "stream",
     "text": [
      "April Foolsday\n"
     ]
    }
   ],
   "source": [
    "# Search your ID number: 499942\n",
    "for row in session.query(Employees).filter_by(emp_no=499942):\n",
    "    print (row.first_name, row.last_name)\n"
   ]
  },
  {
   "cell_type": "code",
   "execution_count": null,
   "metadata": {},
   "outputs": [],
   "source": []
  }
 ],
 "metadata": {
  "kernelspec": {
   "display_name": "Conda [PythonData]",
   "language": "python",
   "name": "pythondata"
  },
  "language_info": {
   "codemirror_mode": {
    "name": "ipython",
    "version": 3
   },
   "file_extension": ".py",
   "mimetype": "text/x-python",
   "name": "python",
   "nbconvert_exporter": "python",
   "pygments_lexer": "ipython3",
   "version": "3.6.9"
  }
 },
 "nbformat": 4,
 "nbformat_minor": 2
}
